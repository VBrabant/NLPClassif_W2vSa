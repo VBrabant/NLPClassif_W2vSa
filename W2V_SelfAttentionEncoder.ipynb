{
 "cells": [
  {
   "cell_type": "code",
   "execution_count": 3,
   "metadata": {},
   "outputs": [
    {
     "name": "stdout",
     "output_type": "stream",
     "text": [
      "file read\n",
      "DONE\n"
     ]
    }
   ],
   "source": [
    "### Create datafile\n",
    "from zipfile import ZipFile \n",
    "import json\n",
    "\n",
    "file_name = \"yelp_academic_dataset_review.json.zip\"\n",
    "path = \"/Volumes/My Passport/Work/yelp_dataset/\"\n",
    "input_zip = ZipFile(path + file_name)\n",
    "del file_name\n",
    "\n",
    "name = input_zip.namelist()[0]\n",
    "data = input_zip.read(name)\n",
    "del name\n",
    "del input_zip\n",
    "\n",
    "print(\"file read\")\n",
    "\n",
    "n = int(len(data)*(0.17/100)) # we select 0.5% of dataset\n",
    "dat = data[:n]\n",
    "del data\n",
    "tmp = dat.decode(\"utf-8\")\n",
    "del dat\n",
    "tmp = tmp.split(\"}\\n{\")\n",
    "tmp[0] = tmp[0][1:]\n",
    "\n",
    "reviews = {}\n",
    "for i, r in enumerate(tmp) : \n",
    "    try : reviews[i] = json.loads(\"{\" + r + \"}\")\n",
    "    except : None\n",
    "del tmp\n",
    "# Store file\n",
    "with open('yelp_reviews_part1.json', 'w', encoding='utf-8') as f:\n",
    "    json.dump(reviews, f, ensure_ascii=False, indent=4)   \n",
    "    \n",
    "print(\"DONE\")"
   ]
  },
  {
   "cell_type": "code",
   "execution_count": 2,
   "metadata": {},
   "outputs": [
    {
     "name": "stdout",
     "output_type": "stream",
     "text": [
      "File imported (82211 reviews)\n"
     ]
    }
   ],
   "source": [
    "### Import (created) data\n",
    "import json\n",
    "\n",
    "with open('yelp_reviews_part1.json') as json_file:\n",
    "    reviews = json.load(json_file)\n",
    "\n",
    "print(\"File imported ({} reviews)\".format(len(reviews)))"
   ]
  },
  {
   "cell_type": "code",
   "execution_count": 3,
   "metadata": {},
   "outputs": [],
   "source": [
    "keys = list(reviews.keys())\n",
    "key = keys[0]\n",
    "\n",
    "def cleaning(text) : \n",
    "    chars_ = \"'*\"\n",
    "    chars = \"()\"\n",
    "\n",
    "    t = text.lower().replace(\"\\n\", \" \").replace(\"\\\"\", \"\")\n",
    "    for c in chars_ : \n",
    "        t = t.replace(c, \" \")\n",
    "    for c in chars : \n",
    "        t = t.replace(c, \"\")\n",
    "\n",
    "    t = \" \".join([w for w in t.split(\" \") if not w==\"\"])\n",
    "    \n",
    "    return t"
   ]
  },
  {
   "cell_type": "code",
   "execution_count": 4,
   "metadata": {},
   "outputs": [],
   "source": [
    "texts = []\n",
    "for k in keys : \n",
    "    try : \n",
    "        text = reviews[k]['text']\n",
    "        t = cleaning(text)\n",
    "        texts.append(t)\n",
    "    except : None"
   ]
  },
  {
   "cell_type": "code",
   "execution_count": 5,
   "metadata": {},
   "outputs": [
    {
     "data": {
      "text/plain": [
       "'as someone who has worked with many museums, i was eager to visit this gallery on my most recent trip to las vegas. when i saw they would be showing infamous eggs of the house of faberge from the virginia museum of fine arts vmfa, i knew i had to go! tucked away near the gelateria and the garden, the gallery is pretty much hidden from view. it s what real estate agents would call cozy or charming - basically any euphemism for small. that being said, you can still see wonderful art at a gallery of any size, so why the two s you ask? let me tell you: pricing for this, while relatively inexpensive for a las vegas attraction, is completely over the top. for the space and the amount of art you can fit in there, it is a bit much. it s not kid friendly at all. seriously, don t bring them. the security is not trained properly for the show. when the curating and design teams collaborate for exhibitions, there is a definite flow. that means visitors should view the art in a certain sequence, whe'"
      ]
     },
     "execution_count": 5,
     "metadata": {},
     "output_type": "execute_result"
    }
   ],
   "source": [
    "TEXT = \" \".join(texts)\n",
    "del reviews # free memory\n",
    "TEXT[:1000]"
   ]
  },
  {
   "cell_type": "code",
   "execution_count": 6,
   "metadata": {},
   "outputs": [
    {
     "name": "stdout",
     "output_type": "stream",
     "text": [
      "70160 unique words.\n",
      "Let's count occurences and select only those who appears at least 10 times : \n",
      "    words done : 2500 (4%)\n",
      "    words done : 5000 (7%)\n",
      "    words done : 7500 (11%)\n",
      "    words done : 10000 (14%)\n",
      "    words done : 12500 (18%)\n",
      "    words done : 15000 (21%)\n",
      "    words done : 17500 (25%)\n",
      "    words done : 20000 (29%)\n",
      "    words done : 22500 (32%)\n",
      "    words done : 25000 (36%)\n",
      "    words done : 27500 (39%)\n",
      "    words done : 30000 (43%)\n",
      "    words done : 32500 (46%)\n",
      "    words done : 35000 (50%)\n",
      "    words done : 37500 (53%)\n",
      "    words done : 40000 (57%)\n",
      "    words done : 42500 (61%)\n",
      "    words done : 45000 (64%)\n",
      "    words done : 47500 (68%)\n",
      "    words done : 50000 (71%)\n",
      "    words done : 52500 (75%)\n",
      "    words done : 55000 (78%)\n",
      "    words done : 57500 (82%)\n",
      "    words done : 60000 (86%)\n",
      "    words done : 62500 (89%)\n",
      "    words done : 65000 (93%)\n",
      "    words done : 67500 (96%)\n",
      "    words done : 70000 (100%)\n",
      "We now have 16014 unique words\n",
      "File stored.\n"
     ]
    }
   ],
   "source": [
    "import re\n",
    "\n",
    "occ = 10\n",
    "\n",
    "Words = re.findall(r\"[\\w']+\", TEXT)\n",
    "WordsSet = list(set(Words))\n",
    "N = len(WordsSet)\n",
    "\n",
    "# verbose\n",
    "print(str(N) + \" unique words.\") \n",
    "print(\"Let's count occurences and select only those who appears at least \" + str(occ) + \" times : \")\n",
    "\n",
    "WordsCount = {}\n",
    "for i, w in enumerate(WordsSet) : \n",
    "    c = Words.count(w)\n",
    "    if c >= occ : # We keep words occuring at least \"occ\" times\n",
    "        WordsCount[w] = c\n",
    "    if (i+1)%2500 == 0 : print(\"    words done : \" + str(i+1) + \" (\" + str(round(100*(i+1)/N)) + \"%)\")\n",
    "\n",
    "numWords = len(WordsCount)\n",
    "        \n",
    "# verbose\n",
    "print(\"We now have {} unique words\".format(numWords))\n",
    "\n",
    "# Store file\n",
    "with open('wordscount.json', 'w', encoding='utf-8') as f:\n",
    "    json.dump(WordsCount, f, ensure_ascii=False, indent=4)   \n",
    "print(\"File stored.\")"
   ]
  },
  {
   "cell_type": "code",
   "execution_count": 7,
   "metadata": {},
   "outputs": [
    {
     "data": {
      "image/png": "[encoded data removed]",
      "text/plain": [
       "<Figure size 1440x360 with 1 Axes>"
      ]
     },
     "metadata": {
      "needs_background": "light"
     },
     "output_type": "display_data"
    }
   ],
   "source": [
    "import matplotlib.pyplot as plt\n",
    "plt.figure(figsize = (20, 5))\n",
    "plt.hist(WordsCount.values(), range=[occ,200], bins=100);"
   ]
  },
  {
   "cell_type": "code",
   "execution_count": 8,
   "metadata": {},
   "outputs": [],
   "source": [
    "# replace word by number\n",
    "WordsDict = {i:w for i, w in enumerate(list(WordsCount.keys()))}\n",
    "WordsDictReverse = {v:k for k, v in WordsDict.items()}\n",
    "Words = list(WordsCount.keys())\n",
    "\n",
    "del WordsCount # free memory"
   ]
  },
  {
   "cell_type": "code",
   "execution_count": 9,
   "metadata": {},
   "outputs": [],
   "source": [
    "import torch\n",
    "import torch.nn as nn\n",
    "\n",
    "class MyW2V(nn.Module):\n",
    "    def __init__(self, num_words, hidden_size):\n",
    "        super(MyW2V, self).__init__()\n",
    "        \n",
    "        self.linear1 = nn.Linear(num_words, hidden_size)\n",
    "        self.linear2 = nn.Linear(hidden_size, num_words)\n",
    "                \n",
    "    def forward(self, x):\n",
    "        x = self.linear1(x)\n",
    "        x = self.linear2(x)\n",
    "        return x\n"
   ]
  },
  {
   "cell_type": "code",
   "execution_count": 14,
   "metadata": {},
   "outputs": [],
   "source": [
    "windowRay = 5"
   ]
  },
  {
   "cell_type": "code",
   "execution_count": 15,
   "metadata": {},
   "outputs": [
    {
     "name": "stdout",
     "output_type": "stream",
     "text": [
      "Creating training set (with window size of 11)...\n",
      "761332 phrases.\n",
      "    phrases processed : 10000 (1%)\n",
      "    phrases processed : 20000 (3%)\n",
      "    phrases processed : 30000 (4%)\n",
      "    phrases processed : 40000 (5%)\n",
      "    phrases processed : 50000 (7%)\n",
      "    phrases processed : 60000 (8%)\n",
      "    phrases processed : 70000 (9%)\n",
      "    phrases processed : 80000 (11%)\n",
      "    phrases processed : 90000 (12%)\n",
      "    phrases processed : 100000 (13%)\n",
      "    phrases processed : 110000 (14%)\n",
      "    phrases processed : 120000 (16%)\n",
      "    phrases processed : 130000 (17%)\n",
      "    phrases processed : 140000 (18%)\n",
      "    phrases processed : 150000 (20%)\n",
      "    phrases processed : 160000 (21%)\n",
      "    phrases processed : 170000 (22%)\n",
      "    phrases processed : 180000 (24%)\n",
      "    phrases processed : 190000 (25%)\n",
      "    phrases processed : 200000 (26%)\n",
      "    phrases processed : 210000 (28%)\n",
      "    phrases processed : 220000 (29%)\n",
      "    phrases processed : 230000 (30%)\n",
      "    phrases processed : 240000 (32%)\n",
      "    phrases processed : 250000 (33%)\n",
      "    phrases processed : 260000 (34%)\n",
      "    phrases processed : 270000 (35%)\n",
      "    phrases processed : 280000 (37%)\n",
      "    phrases processed : 290000 (38%)\n",
      "    phrases processed : 300000 (39%)\n",
      "    phrases processed : 310000 (41%)\n",
      "    phrases processed : 320000 (42%)\n",
      "    phrases processed : 330000 (43%)\n",
      "    phrases processed : 340000 (45%)\n"
     ]
    },
    {
     "ename": "KeyboardInterrupt",
     "evalue": "",
     "output_type": "error",
     "traceback": [
      "\u001b[0;31m---------------------------------------------------------------------------\u001b[0m",
      "\u001b[0;31mKeyboardInterrupt\u001b[0m                         Traceback (most recent call last)",
      "\u001b[0;32m<ipython-input-15-b56b4be4902d>\u001b[0m in \u001b[0;36m<module>\u001b[0;34m\u001b[0m\n\u001b[1;32m     24\u001b[0m \u001b[0;34m\u001b[0m\u001b[0m\n\u001b[1;32m     25\u001b[0m             \u001b[0myn\u001b[0m \u001b[0;34m=\u001b[0m \u001b[0mWordsDictReverse\u001b[0m\u001b[0;34m[\u001b[0m\u001b[0my\u001b[0m\u001b[0;34m]\u001b[0m\u001b[0;34m\u001b[0m\u001b[0;34m\u001b[0m\u001b[0m\n\u001b[0;32m---> 26\u001b[0;31m             \u001b[0mxn\u001b[0m \u001b[0;34m=\u001b[0m \u001b[0;34m[\u001b[0m\u001b[0mWordsDictReverse\u001b[0m\u001b[0;34m[\u001b[0m\u001b[0mw\u001b[0m\u001b[0;34m]\u001b[0m \u001b[0;32mfor\u001b[0m \u001b[0mw\u001b[0m \u001b[0;32min\u001b[0m \u001b[0mx\u001b[0m \u001b[0;32mif\u001b[0m \u001b[0mw\u001b[0m \u001b[0;32min\u001b[0m \u001b[0mWords\u001b[0m\u001b[0;34m]\u001b[0m\u001b[0;34m\u001b[0m\u001b[0;34m\u001b[0m\u001b[0m\n\u001b[0m\u001b[1;32m     27\u001b[0m \u001b[0;34m\u001b[0m\u001b[0m\n\u001b[1;32m     28\u001b[0m         \u001b[0mtrainingSet\u001b[0m\u001b[0;34m[\u001b[0m\u001b[0mk\u001b[0m\u001b[0;34m]\u001b[0m \u001b[0;34m=\u001b[0m \u001b[0;34m[\u001b[0m\u001b[0mxn\u001b[0m\u001b[0;34m,\u001b[0m \u001b[0myn\u001b[0m\u001b[0;34m]\u001b[0m\u001b[0;34m\u001b[0m\u001b[0;34m\u001b[0m\u001b[0m\n",
      "\u001b[0;32m<ipython-input-15-b56b4be4902d>\u001b[0m in \u001b[0;36m<listcomp>\u001b[0;34m(.0)\u001b[0m\n\u001b[1;32m     24\u001b[0m \u001b[0;34m\u001b[0m\u001b[0m\n\u001b[1;32m     25\u001b[0m             \u001b[0myn\u001b[0m \u001b[0;34m=\u001b[0m \u001b[0mWordsDictReverse\u001b[0m\u001b[0;34m[\u001b[0m\u001b[0my\u001b[0m\u001b[0;34m]\u001b[0m\u001b[0;34m\u001b[0m\u001b[0;34m\u001b[0m\u001b[0m\n\u001b[0;32m---> 26\u001b[0;31m             \u001b[0mxn\u001b[0m \u001b[0;34m=\u001b[0m \u001b[0;34m[\u001b[0m\u001b[0mWordsDictReverse\u001b[0m\u001b[0;34m[\u001b[0m\u001b[0mw\u001b[0m\u001b[0;34m]\u001b[0m \u001b[0;32mfor\u001b[0m \u001b[0mw\u001b[0m \u001b[0;32min\u001b[0m \u001b[0mx\u001b[0m \u001b[0;32mif\u001b[0m \u001b[0mw\u001b[0m \u001b[0;32min\u001b[0m \u001b[0mWords\u001b[0m\u001b[0;34m]\u001b[0m\u001b[0;34m\u001b[0m\u001b[0;34m\u001b[0m\u001b[0m\n\u001b[0m\u001b[1;32m     27\u001b[0m \u001b[0;34m\u001b[0m\u001b[0m\n\u001b[1;32m     28\u001b[0m         \u001b[0mtrainingSet\u001b[0m\u001b[0;34m[\u001b[0m\u001b[0mk\u001b[0m\u001b[0;34m]\u001b[0m \u001b[0;34m=\u001b[0m \u001b[0;34m[\u001b[0m\u001b[0mxn\u001b[0m\u001b[0;34m,\u001b[0m \u001b[0myn\u001b[0m\u001b[0;34m]\u001b[0m\u001b[0;34m\u001b[0m\u001b[0;34m\u001b[0m\u001b[0m\n",
      "\u001b[0;31mKeyboardInterrupt\u001b[0m: "
     ]
    }
   ],
   "source": [
    "phrases = re.split(r' *[\\.\\?!][\\'\"\\)\\]]* *', TEXT)\n",
    "trainingSet = {}\n",
    "k = 0\n",
    "\n",
    "# verbose\n",
    "print(\"Creating training set (with window size of {})...\".format(2*windowRay+1))\n",
    "print(str(len(phrases)) + \" phrases.\")\n",
    "\n",
    "for i, phrase in enumerate(phrases) : \n",
    "    \n",
    "    # verbose\n",
    "    if (i+1)%10000==0 : print(\"    phrases processed : \" + str(i+1) + \" (\"+ str(round((i+1)/len(phrases)*100)) + \"%)\")\n",
    "    \n",
    "    words = re.findall(r\"[\\w']+\", phrase)\n",
    "    words = [w.lower().replace(\"'\", \" \") for w in words]\n",
    "\n",
    "    for j in range(len(words)):\n",
    "        y = words[j]\n",
    "        if y in Words : \n",
    "            m = max(j-windowRay, 0)\n",
    "            M = min(j+windowRay+1, len(words)-1)\n",
    "\n",
    "            x = words[m:j] + words[(j+1):M]\n",
    "\n",
    "            yn = WordsDictReverse[y]\n",
    "            xn = [WordsDictReverse[w] for w in x if w in Words] \n",
    "\n",
    "        trainingSet[k] = [xn, yn]\n",
    "        k += 1\n",
    "\n",
    "print(\"Done\")"
   ]
  },
  {
   "cell_type": "code",
   "execution_count": null,
   "metadata": {},
   "outputs": [],
   "source": [
    "### Store TrainingSet\n",
    "with open('trainingset.json', 'w', encoding='utf-8') as f:\n",
    "    json.dump(trainingSet, f, ensure_ascii=False, indent=4)   \n",
    " "
   ]
  },
  {
   "cell_type": "code",
   "execution_count": null,
   "metadata": {},
   "outputs": [],
   "source": [
    "del TEXT # Free Memory"
   ]
  },
  {
   "cell_type": "code",
   "execution_count": 15,
   "metadata": {},
   "outputs": [],
   "source": [
    "### Import training set\n",
    "import json\n",
    "\n",
    "with open('trainingset.json') as json_file:\n",
    "    trainingSet = json.load(json_file)"
   ]
  },
  {
   "cell_type": "code",
   "execution_count": 16,
   "metadata": {},
   "outputs": [],
   "source": [
    "def onehot(lst, N) : \n",
    "    return [1*(i in lst) for i in range(N)]"
   ]
  },
  {
   "cell_type": "code",
   "execution_count": 26,
   "metadata": {},
   "outputs": [],
   "source": [
    "NUM_WORDS = numWords\n",
    "NUM_HIDDEN = 128\n",
    "\n",
    "model = MyW2V(NUM_WORDS, NUM_HIDDEN)\n",
    "loss = nn.CrossEntropyLoss()\n",
    "\n",
    "import torch.optim as optim\n",
    "optimizer = optim.Adam(model.parameters(), lr=0.0005, weight_decay=0)\n"
   ]
  },
  {
   "cell_type": "code",
   "execution_count": 27,
   "metadata": {},
   "outputs": [],
   "source": [
    "import random\n",
    "from datetime import datetime"
   ]
  },
  {
   "cell_type": "code",
   "execution_count": 44,
   "metadata": {},
   "outputs": [],
   "source": [
    "def getData(batch) : \n",
    "    X = [t[0] for t in batch]\n",
    "    X_onehot = [onehot(x, N=numWords) for x in X]\n",
    "    X = torch.FloatTensor(X_onehot)\n",
    "    \n",
    "    Y = [t[1] for t in batch]\n",
    "    Y = torch.tensor(Y).reshape(-1)\n",
    "    \n",
    "    return X, Y   \n",
    "\n",
    "def getLoss(X, Y):\n",
    "    pred = model.forward(X)\n",
    "    output = loss(pred, Y)\n",
    "    return output\n",
    "\n",
    "def createBatches(dataSet, batch_size):\n",
    "    batches = []\n",
    "    j=0\n",
    "    while j < len(dataSet) : \n",
    "        batch = dataSet[j:min(j+BATCH_SIZE, len(dataSet)-1)]\n",
    "        j += BATCH_SIZE\n",
    "        \n",
    "        X, Y = getData(batch)\n",
    "        \n",
    "        batches.append([X, Y])\n",
    "        \n",
    "    return batches"
   ]
  },
  {
   "cell_type": "code",
   "execution_count": 46,
   "metadata": {},
   "outputs": [
    {
     "name": "stdout",
     "output_type": "stream",
     "text": [
      "Epoch 0 : \n",
      "    - Loss : 8.8706\n",
      "Batches created. Duration : 8 min.\n",
      "Epoch 10 : \n",
      "    - Batch size : 64\n",
      "    - Loss : 3.8953\n",
      "    - Duration : 2 min.\n",
      "Epoch 20 : \n",
      "    - Batch size : 64\n",
      "    - Loss : 3.2776\n",
      "    - Duration : 2 min.\n",
      "Epoch 30 : \n",
      "    - Batch size : 64\n",
      "    - Loss : 3.0122\n",
      "    - Duration : 2 min.\n",
      "Epoch 40 : \n",
      "    - Batch size : 64\n",
      "    - Loss : 2.8775\n",
      "    - Duration : 2 min.\n",
      "Epoch 50 : \n",
      "    - Batch size : 64\n",
      "    - Loss : 2.7984\n",
      "    - Duration : 2 min.\n",
      "Epoch 60 : \n",
      "    - Batch size : 64\n",
      "    - Loss : 2.7467\n",
      "    - Duration : 2 min.\n",
      "Epoch 70 : \n",
      "    - Batch size : 64\n",
      "    - Loss : 2.7099\n",
      "    - Duration : 2 min.\n",
      "Epoch 80 : \n",
      "    - Batch size : 64\n",
      "    - Loss : 2.6822\n",
      "    - Duration : 2 min.\n",
      "Epoch 90 : \n",
      "    - Batch size : 64\n",
      "    - Loss : 2.6608\n",
      "    - Duration : 2 min.\n",
      "Epoch 100 : \n",
      "    - Batch size : 64\n",
      "    - Loss : 2.644\n",
      "    - Duration : 2 min.\n"
     ]
    }
   ],
   "source": [
    "BATCH_SIZE = 64\n",
    "\n",
    "trainingSetList = list(trainingSet.values())\n",
    "del trainingSet # free memory\n",
    "\n",
    "testSet = random.sample(trainingSetList, round(0.01*len(trainingSetList)))\n",
    "Xtest, Ytest = getData(testSet)\n",
    "\n",
    "totalLoss = float(getLoss(Xtest, Ytest))\n",
    "# verbose\n",
    "print(\"Epoch 0 : \")\n",
    "print(\"    - Loss : \" + str(round(totalLoss, ndigits=4)))\n",
    "\n",
    "epoch = 0\n",
    "\n",
    "trainingSet0 = random.sample(trainingSetList, len(trainingSetList))\n",
    "del trainingSetList # free memory\n",
    "t1 = datetime.now()\n",
    "batches = createBatches(trainingSet0, BATCH_SIZE)\n",
    "del trainingSet0 # free memory\n",
    "t2 = datetime.now()  - t1\n",
    "duration = t2.seconds // 60\n",
    "\n",
    "# verbose\n",
    "print(\"Batches created. Duration : \" + str(duration) + \" min.\")\n",
    "    \n",
    "for _ in range(100):\n",
    "    \n",
    "    epoch += 1\n",
    "    \n",
    "    t1 = datetime.now()\n",
    "    \n",
    "    #batches = random.sample(batches, len(batches))\n",
    "    \n",
    "    for batch in batches : \n",
    "\n",
    "        X, Y = batch\n",
    "        output = getLoss(X, Y)\n",
    "\n",
    "        optimizer.zero_grad()\n",
    "        output.backward(retain_graph=True)\n",
    "        optimizer.step()\n",
    "\n",
    "    t2 = datetime.now()  - t1\n",
    "    duration = t2.seconds // 60\n",
    "    \n",
    "    if epoch%10 == 0 : \n",
    "    \n",
    "        totalLoss = float(getLoss(Xtest, Ytest))\n",
    "\n",
    "        print(\"Epoch \" + str(epoch) + \" : \")\n",
    "        print(\"    - Batch size : \" + str(BATCH_SIZE))\n",
    "        print(\"    - Loss : \" + str(round(totalLoss, ndigits=4)))\n",
    "        print(\"    - Duration : \" + str(duration) + \" min.\")\n",
    "        \n",
    "del batches # free memory"
   ]
  },
  {
   "cell_type": "code",
   "execution_count": 49,
   "metadata": {},
   "outputs": [],
   "source": [
    "import pandas as pd\n",
    "\n",
    "df = pd.DataFrame({'word' : list(WordsDict.values()),\n",
    "                   'num' : list(WordsDict.keys())})\n",
    "df = pd.concat([df, pd.DataFrame(model.linear1.weight.data.numpy()).transpose()], axis=1)"
   ]
  },
  {
   "cell_type": "code",
   "execution_count": 50,
   "metadata": {},
   "outputs": [
    {
     "data": {
      "text/html": [
       "<div>\n",
       "<style scoped>\n",
       "    .dataframe tbody tr th:only-of-type {\n",
       "        vertical-align: middle;\n",
       "    }\n",
       "\n",
       "    .dataframe tbody tr th {\n",
       "        vertical-align: top;\n",
       "    }\n",
       "\n",
       "    .dataframe thead th {\n",
       "        text-align: right;\n",
       "    }\n",
       "</style>\n",
       "<table border=\"1\" class=\"dataframe\">\n",
       "  <thead>\n",
       "    <tr style=\"text-align: right;\">\n",
       "      <th></th>\n",
       "      <th>word</th>\n",
       "      <th>num</th>\n",
       "      <th>0</th>\n",
       "      <th>1</th>\n",
       "      <th>2</th>\n",
       "      <th>3</th>\n",
       "      <th>4</th>\n",
       "      <th>5</th>\n",
       "      <th>6</th>\n",
       "      <th>7</th>\n",
       "      <th>...</th>\n",
       "      <th>118</th>\n",
       "      <th>119</th>\n",
       "      <th>120</th>\n",
       "      <th>121</th>\n",
       "      <th>122</th>\n",
       "      <th>123</th>\n",
       "      <th>124</th>\n",
       "      <th>125</th>\n",
       "      <th>126</th>\n",
       "      <th>127</th>\n",
       "    </tr>\n",
       "  </thead>\n",
       "  <tbody>\n",
       "    <tr>\n",
       "      <th>0</th>\n",
       "      <td>corned</td>\n",
       "      <td>0</td>\n",
       "      <td>0.026023</td>\n",
       "      <td>-0.302686</td>\n",
       "      <td>0.716478</td>\n",
       "      <td>1.760051</td>\n",
       "      <td>1.166899</td>\n",
       "      <td>-0.153824</td>\n",
       "      <td>-0.940575</td>\n",
       "      <td>0.027834</td>\n",
       "      <td>...</td>\n",
       "      <td>-0.487021</td>\n",
       "      <td>-0.555046</td>\n",
       "      <td>0.254399</td>\n",
       "      <td>-1.070017</td>\n",
       "      <td>1.447841</td>\n",
       "      <td>1.340765</td>\n",
       "      <td>0.318240</td>\n",
       "      <td>0.876247</td>\n",
       "      <td>1.235983</td>\n",
       "      <td>-0.705773</td>\n",
       "    </tr>\n",
       "    <tr>\n",
       "      <th>1</th>\n",
       "      <td>garlicky</td>\n",
       "      <td>1</td>\n",
       "      <td>-1.576522</td>\n",
       "      <td>-1.323343</td>\n",
       "      <td>-0.641931</td>\n",
       "      <td>-1.068634</td>\n",
       "      <td>0.611991</td>\n",
       "      <td>0.391321</td>\n",
       "      <td>-0.758668</td>\n",
       "      <td>-0.857353</td>\n",
       "      <td>...</td>\n",
       "      <td>-1.106937</td>\n",
       "      <td>-1.164347</td>\n",
       "      <td>0.279036</td>\n",
       "      <td>-0.430467</td>\n",
       "      <td>1.378840</td>\n",
       "      <td>2.385134</td>\n",
       "      <td>-1.398105</td>\n",
       "      <td>0.982056</td>\n",
       "      <td>-1.549440</td>\n",
       "      <td>0.026775</td>\n",
       "    </tr>\n",
       "    <tr>\n",
       "      <th>2</th>\n",
       "      <td>german</td>\n",
       "      <td>2</td>\n",
       "      <td>0.769606</td>\n",
       "      <td>-0.875350</td>\n",
       "      <td>0.073682</td>\n",
       "      <td>-0.019873</td>\n",
       "      <td>1.460747</td>\n",
       "      <td>-0.061882</td>\n",
       "      <td>0.209817</td>\n",
       "      <td>-0.827818</td>\n",
       "      <td>...</td>\n",
       "      <td>0.377502</td>\n",
       "      <td>-0.344845</td>\n",
       "      <td>0.583333</td>\n",
       "      <td>-1.617766</td>\n",
       "      <td>0.175091</td>\n",
       "      <td>0.661808</td>\n",
       "      <td>0.682916</td>\n",
       "      <td>-0.005390</td>\n",
       "      <td>-0.584258</td>\n",
       "      <td>0.335614</td>\n",
       "    </tr>\n",
       "    <tr>\n",
       "      <th>3</th>\n",
       "      <td>eight</td>\n",
       "      <td>3</td>\n",
       "      <td>-0.364568</td>\n",
       "      <td>-0.257157</td>\n",
       "      <td>0.036172</td>\n",
       "      <td>-0.305355</td>\n",
       "      <td>0.437882</td>\n",
       "      <td>-1.602795</td>\n",
       "      <td>-0.654901</td>\n",
       "      <td>0.845419</td>\n",
       "      <td>...</td>\n",
       "      <td>0.370201</td>\n",
       "      <td>-0.063870</td>\n",
       "      <td>-0.641261</td>\n",
       "      <td>-1.762030</td>\n",
       "      <td>1.441150</td>\n",
       "      <td>-1.061864</td>\n",
       "      <td>1.663599</td>\n",
       "      <td>0.093128</td>\n",
       "      <td>-0.495082</td>\n",
       "      <td>1.556980</td>\n",
       "    </tr>\n",
       "    <tr>\n",
       "      <th>4</th>\n",
       "      <td>shown</td>\n",
       "      <td>4</td>\n",
       "      <td>1.159035</td>\n",
       "      <td>-2.261499</td>\n",
       "      <td>0.972445</td>\n",
       "      <td>-0.082260</td>\n",
       "      <td>1.013518</td>\n",
       "      <td>0.301240</td>\n",
       "      <td>-0.781852</td>\n",
       "      <td>-1.491687</td>\n",
       "      <td>...</td>\n",
       "      <td>1.549682</td>\n",
       "      <td>-1.033483</td>\n",
       "      <td>0.910200</td>\n",
       "      <td>-1.549716</td>\n",
       "      <td>1.810117</td>\n",
       "      <td>-1.269402</td>\n",
       "      <td>-1.289852</td>\n",
       "      <td>-0.600029</td>\n",
       "      <td>-1.090389</td>\n",
       "      <td>0.454459</td>\n",
       "    </tr>\n",
       "  </tbody>\n",
       "</table>\n",
       "<p>5 rows × 130 columns</p>\n",
       "</div>"
      ],
      "text/plain": [
       "       word  num         0         1         2         3         4         5  \\\n",
       "0    corned    0  0.026023 -0.302686  0.716478  1.760051  1.166899 -0.153824   \n",
       "1  garlicky    1 -1.576522 -1.323343 -0.641931 -1.068634  0.611991  0.391321   \n",
       "2    german    2  0.769606 -0.875350  0.073682 -0.019873  1.460747 -0.061882   \n",
       "3     eight    3 -0.364568 -0.257157  0.036172 -0.305355  0.437882 -1.602795   \n",
       "4     shown    4  1.159035 -2.261499  0.972445 -0.082260  1.013518  0.301240   \n",
       "\n",
       "          6         7  ...       118       119       120       121       122  \\\n",
       "0 -0.940575  0.027834  ... -0.487021 -0.555046  0.254399 -1.070017  1.447841   \n",
       "1 -0.758668 -0.857353  ... -1.106937 -1.164347  0.279036 -0.430467  1.378840   \n",
       "2  0.209817 -0.827818  ...  0.377502 -0.344845  0.583333 -1.617766  0.175091   \n",
       "3 -0.654901  0.845419  ...  0.370201 -0.063870 -0.641261 -1.762030  1.441150   \n",
       "4 -0.781852 -1.491687  ...  1.549682 -1.033483  0.910200 -1.549716  1.810117   \n",
       "\n",
       "        123       124       125       126       127  \n",
       "0  1.340765  0.318240  0.876247  1.235983 -0.705773  \n",
       "1  2.385134 -1.398105  0.982056 -1.549440  0.026775  \n",
       "2  0.661808  0.682916 -0.005390 -0.584258  0.335614  \n",
       "3 -1.061864  1.663599  0.093128 -0.495082  1.556980  \n",
       "4 -1.269402 -1.289852 -0.600029 -1.090389  0.454459  \n",
       "\n",
       "[5 rows x 130 columns]"
      ]
     },
     "execution_count": 50,
     "metadata": {},
     "output_type": "execute_result"
    }
   ],
   "source": [
    "df.head()"
   ]
  },
  {
   "cell_type": "code",
   "execution_count": 60,
   "metadata": {},
   "outputs": [],
   "source": [
    "df.to_csv(\"myW2V.csv\", index=False)"
   ]
  },
  {
   "cell_type": "code",
   "execution_count": 55,
   "metadata": {},
   "outputs": [],
   "source": [
    "df_viz = df.sample(20)\n",
    "df_viz.head()\n",
    "\n",
    "from sklearn import decomposition\n",
    "\n",
    "# dim reduc : ACP\n",
    "X = df_viz.iloc[:,2:].values\n",
    "\n",
    "pca = decomposition.PCA(n_components=2)\n",
    "pca.fit(X)\n",
    "X = pca.transform(X)\n",
    "\n",
    "n = len(X)\n",
    "X1 = [X[i][0] for i in range(n)]\n",
    "X2 = [X[i][1] for i in range(n)]\n",
    "\n"
   ]
  },
  {
   "cell_type": "code",
   "execution_count": 56,
   "metadata": {},
   "outputs": [
    {
     "name": "stdout",
     "output_type": "stream",
     "text": [
      "\n",
      "Explained information : 19%\n",
      "\n"
     ]
    },
    {
     "data": {
      "image/png": "[encoded data removed]",
      "text/plain": [
       "<Figure size 1224x504 with 1 Axes>"
      ]
     },
     "metadata": {
      "needs_background": "light"
     },
     "output_type": "display_data"
    }
   ],
   "source": [
    "import matplotlib.pyplot as plt\n",
    "words = df_viz.iloc[:,0].values\n",
    "\n",
    "print(\"\\nExplained information : \" + str(int(100*sum(pca.explained_variance_ratio_))) + \"%\\n\")\n",
    "\n",
    "fig = plt.figure(figsize=(17, 7))\n",
    "plt.axis([min(X1)*1.1, max(X1)*1.1, min(X2)*1.1, max(X2)*1.1])\n",
    "for w, x, y in zip(words, X1, X2):\n",
    "    plt.text(x, y, w)"
   ]
  },
  {
   "cell_type": "markdown",
   "metadata": {},
   "source": [
    "# Self Attention"
   ]
  },
  {
   "cell_type": "code",
   "execution_count": 465,
   "metadata": {},
   "outputs": [
    {
     "name": "stdout",
     "output_type": "stream",
     "text": [
      "File imported (4102 reviews)\n"
     ]
    }
   ],
   "source": [
    "### prepare dataset\n",
    "\n",
    "# Import (created) data\n",
    "import json\n",
    "\n",
    "with open('yelp_reviews_part1.json') as json_file:\n",
    "    reviews = json.load(json_file)\n",
    "\n",
    "print(\"File imported ({} reviews)\".format(len(reviews)))\n",
    "\n",
    "# prepare data"
   ]
  },
  {
   "cell_type": "code",
   "execution_count": 466,
   "metadata": {},
   "outputs": [
    {
     "name": "stdout",
     "output_type": "stream",
     "text": [
      "DONE\n"
     ]
    }
   ],
   "source": [
    "wordsList = df['word'].tolist()\n",
    "\n",
    "dataSet = {}\n",
    "k = 0\n",
    "\n",
    "keys = list(reviews.keys())\n",
    "for key in keys :\n",
    "    try :\n",
    "        text = reviews[key]['text']\n",
    "        words = re.findall(r\"[\\w']+\", text)\n",
    "        words = [w.lower().replace(\"'\", \" \") for w in words if w in wordsList]\n",
    "        tmp = df[df['word'].isin(words)]\n",
    "        vectors = [tmp[tmp['word'] == w].iloc[0,2:].tolist() for w in words]\n",
    "        \n",
    "        star = reviews[key]['stars']\n",
    "        \n",
    "        dataSet[k] = [vectors, star]\n",
    "        k += 1\n",
    "      \n",
    "    except : None\n",
    "\n",
    "print(\"DONE\")\n",
    "        \n",
    "del reviews # free memory    "
   ]
  },
  {
   "cell_type": "code",
   "execution_count": 467,
   "metadata": {},
   "outputs": [
    {
     "data": {
      "image/png": "[encoded data removed]",
      "text/plain": [
       "<Figure size 432x288 with 1 Axes>"
      ]
     },
     "metadata": {
      "needs_background": "light"
     },
     "output_type": "display_data"
    }
   ],
   "source": [
    "stars = [dataSet[k][1] for k in list(dataSet.keys())]\n",
    "plt.hist(stars, align='mid', bins=5);"
   ]
  },
  {
   "cell_type": "code",
   "execution_count": 543,
   "metadata": {},
   "outputs": [
    {
     "name": "stdout",
     "output_type": "stream",
     "text": [
      "Training set size : 3897\n",
      "Test set size : 205\n",
      "\n"
     ]
    }
   ],
   "source": [
    "splitRatio = 0.05\n",
    "\n",
    "dataSize = len(dataSet)\n",
    "indices = random.sample(range(dataSize), round(splitRatio*dataSize))\n",
    "\n",
    "keys = list(dataSet.keys())\n",
    "testSet = [dataSet[keys[i]] for i in indices]\n",
    "trainSet = [dataSet[keys[i]] for i in range(dataSize) if i not in indices]\n",
    "\n",
    "# verbose\n",
    "print(\"Training set size : {}\\nTest set size : {}\\n\".format(dataSize-len(indices), len(indices)))"
   ]
  },
  {
   "cell_type": "code",
   "execution_count": 544,
   "metadata": {},
   "outputs": [],
   "source": [
    "import torch.nn as nn\n",
    "import torch.optim as optim\n",
    "import torch.nn.functional as F\n",
    "import torch\n",
    "from torch.autograd import Variable\n",
    "\n",
    "import unicodedata\n",
    "import string\n",
    "\n",
    "from itertools import chain\n",
    "\n",
    "\n",
    "\n",
    "class EncoderRNN(nn.Module):\n",
    "    def __init__(self, input_dim, h_dim, batch_first=True):\n",
    "        super(EncoderRNN, self).__init__()\n",
    "        self.h_dim = h_dim\n",
    "        self.lstm = nn.LSTM(input_dim, h_dim, batch_first=batch_first,\n",
    "                            bidirectional=True)\n",
    "\n",
    "    def init_hidden(self, b_size):\n",
    "        h0 = Variable(torch.zeros(1*2, b_size, self.h_dim))\n",
    "        c0 = Variable(torch.zeros(1*2, b_size, self.h_dim))\n",
    "        return (h0, c0)\n",
    "\n",
    "    def forward(self, x):\n",
    "        self.hidden = self.init_hidden(x.size(0))\n",
    "        packed_emb = x\n",
    "\n",
    "        out, hidden = self.lstm(packed_emb, self.hidden)\n",
    "                \n",
    "        out = out[:, :, :self.h_dim] + out[:, :, self.h_dim:]\n",
    "        \n",
    "        return out\n",
    "\n",
    "\n",
    "class Attn(nn.Module):\n",
    "    def __init__(self, h_dim):\n",
    "        super(Attn, self).__init__()\n",
    "        self.h_dim = h_dim\n",
    "        self.main = nn.Sequential(\n",
    "            nn.Linear(h_dim, 24),\n",
    "            nn.ReLU(True),\n",
    "            nn.Linear(24,1)\n",
    "        )\n",
    "\n",
    "    def forward(self, encoder_outputs):\n",
    "        b_size = encoder_outputs.size(0)\n",
    "        attn_ene = self.main(encoder_outputs.view(-1, self.h_dim)) # (b, s, h) -> (b * s, 1)\n",
    "        return F.softmax(attn_ene.view(b_size, -1), dim=1).unsqueeze(2) # (b*s, 1) -> (b, s, 1)\n",
    "\n",
    "class AttnClassifier(nn.Module):\n",
    "    def __init__(self, h_dim, c_num):\n",
    "        super(AttnClassifier, self).__init__()\n",
    "        self.attn = Attn(h_dim)\n",
    "        self.main = nn.Linear(h_dim, c_num)\n",
    "        \n",
    "    \n",
    "    def forward(self, encoder_outputs):\n",
    "        attns = self.attn(encoder_outputs) #(b, s, 1)\n",
    "        feats = (encoder_outputs * attns).sum(dim=1) # (b, s, h) -> (b, h)\n",
    "        #output = F.softmax(self.main(feats))\n",
    "        output = self.main(feats)\n",
    "        return output, attns\n"
   ]
  },
  {
   "cell_type": "code",
   "execution_count": 545,
   "metadata": {},
   "outputs": [],
   "source": [
    "# make model\n",
    "encoder = EncoderRNN(128, 32)\n",
    "classifier = AttnClassifier(32, 1)\n",
    "\n",
    "# optim\n",
    "optimizer = optim.Adam(chain(encoder.parameters(),classifier.parameters()), lr=0.001)\n"
   ]
  },
  {
   "cell_type": "code",
   "execution_count": 546,
   "metadata": {},
   "outputs": [],
   "source": [
    "loss = nn.MSELoss()\n",
    "#loss = nn.CrossEntropyLoss()"
   ]
  },
  {
   "cell_type": "code",
   "execution_count": 547,
   "metadata": {},
   "outputs": [
    {
     "name": "stdout",
     "output_type": "stream",
     "text": [
      "3897 reviews to train on.\n",
      "    10 epochs done. Error : 0.702439\n"
     ]
    },
    {
     "ename": "KeyboardInterrupt",
     "evalue": "",
     "output_type": "error",
     "traceback": [
      "\u001b[0;31m---------------------------------------------------------------------------\u001b[0m",
      "\u001b[0;31mKeyboardInterrupt\u001b[0m                         Traceback (most recent call last)",
      "\u001b[0;32m<ipython-input-547-2728901532de>\u001b[0m in \u001b[0;36m<module>\u001b[0;34m\u001b[0m\n\u001b[1;32m     13\u001b[0m             \u001b[0my\u001b[0m \u001b[0;34m=\u001b[0m \u001b[0mtorch\u001b[0m\u001b[0;34m.\u001b[0m\u001b[0mtensor\u001b[0m\u001b[0;34m(\u001b[0m\u001b[0my\u001b[0m\u001b[0;34m)\u001b[0m\u001b[0;34m.\u001b[0m\u001b[0mreshape\u001b[0m\u001b[0;34m(\u001b[0m\u001b[0;34m-\u001b[0m\u001b[0;36m1\u001b[0m\u001b[0;34m)\u001b[0m\u001b[0;34m\u001b[0m\u001b[0;34m\u001b[0m\u001b[0m\n\u001b[1;32m     14\u001b[0m             \u001b[0moptimizer\u001b[0m\u001b[0;34m.\u001b[0m\u001b[0mzero_grad\u001b[0m\u001b[0;34m(\u001b[0m\u001b[0;34m)\u001b[0m\u001b[0;34m\u001b[0m\u001b[0;34m\u001b[0m\u001b[0m\n\u001b[0;32m---> 15\u001b[0;31m             \u001b[0mencoder_outputs\u001b[0m \u001b[0;34m=\u001b[0m \u001b[0mencoder\u001b[0m\u001b[0;34m(\u001b[0m\u001b[0mx\u001b[0m\u001b[0;34m)\u001b[0m\u001b[0;34m\u001b[0m\u001b[0;34m\u001b[0m\u001b[0m\n\u001b[0m\u001b[1;32m     16\u001b[0m             \u001b[0moutput\u001b[0m\u001b[0;34m,\u001b[0m \u001b[0mattn\u001b[0m \u001b[0;34m=\u001b[0m \u001b[0mclassifier\u001b[0m\u001b[0;34m(\u001b[0m\u001b[0mencoder_outputs\u001b[0m\u001b[0;34m)\u001b[0m\u001b[0;34m\u001b[0m\u001b[0;34m\u001b[0m\u001b[0m\n\u001b[1;32m     17\u001b[0m             \u001b[0mlos\u001b[0m \u001b[0;34m=\u001b[0m \u001b[0mloss\u001b[0m\u001b[0;34m(\u001b[0m\u001b[0moutput\u001b[0m\u001b[0;34m,\u001b[0m \u001b[0my\u001b[0m\u001b[0;34m)\u001b[0m\u001b[0;34m\u001b[0m\u001b[0;34m\u001b[0m\u001b[0m\n",
      "\u001b[0;32m/opt/anaconda3/lib/python3.7/site-packages/torch/nn/modules/module.py\u001b[0m in \u001b[0;36m__call__\u001b[0;34m(self, *input, **kwargs)\u001b[0m\n\u001b[1;32m    548\u001b[0m             \u001b[0mresult\u001b[0m \u001b[0;34m=\u001b[0m \u001b[0mself\u001b[0m\u001b[0;34m.\u001b[0m\u001b[0m_slow_forward\u001b[0m\u001b[0;34m(\u001b[0m\u001b[0;34m*\u001b[0m\u001b[0minput\u001b[0m\u001b[0;34m,\u001b[0m \u001b[0;34m**\u001b[0m\u001b[0mkwargs\u001b[0m\u001b[0;34m)\u001b[0m\u001b[0;34m\u001b[0m\u001b[0;34m\u001b[0m\u001b[0m\n\u001b[1;32m    549\u001b[0m         \u001b[0;32melse\u001b[0m\u001b[0;34m:\u001b[0m\u001b[0;34m\u001b[0m\u001b[0;34m\u001b[0m\u001b[0m\n\u001b[0;32m--> 550\u001b[0;31m             \u001b[0mresult\u001b[0m \u001b[0;34m=\u001b[0m \u001b[0mself\u001b[0m\u001b[0;34m.\u001b[0m\u001b[0mforward\u001b[0m\u001b[0;34m(\u001b[0m\u001b[0;34m*\u001b[0m\u001b[0minput\u001b[0m\u001b[0;34m,\u001b[0m \u001b[0;34m**\u001b[0m\u001b[0mkwargs\u001b[0m\u001b[0;34m)\u001b[0m\u001b[0;34m\u001b[0m\u001b[0;34m\u001b[0m\u001b[0m\n\u001b[0m\u001b[1;32m    551\u001b[0m         \u001b[0;32mfor\u001b[0m \u001b[0mhook\u001b[0m \u001b[0;32min\u001b[0m \u001b[0mself\u001b[0m\u001b[0;34m.\u001b[0m\u001b[0m_forward_hooks\u001b[0m\u001b[0;34m.\u001b[0m\u001b[0mvalues\u001b[0m\u001b[0;34m(\u001b[0m\u001b[0;34m)\u001b[0m\u001b[0;34m:\u001b[0m\u001b[0;34m\u001b[0m\u001b[0;34m\u001b[0m\u001b[0m\n\u001b[1;32m    552\u001b[0m             \u001b[0mhook_result\u001b[0m \u001b[0;34m=\u001b[0m \u001b[0mhook\u001b[0m\u001b[0;34m(\u001b[0m\u001b[0mself\u001b[0m\u001b[0;34m,\u001b[0m \u001b[0minput\u001b[0m\u001b[0;34m,\u001b[0m \u001b[0mresult\u001b[0m\u001b[0;34m)\u001b[0m\u001b[0;34m\u001b[0m\u001b[0;34m\u001b[0m\u001b[0m\n",
      "\u001b[0;32m<ipython-input-544-a7bf4f388ba1>\u001b[0m in \u001b[0;36mforward\u001b[0;34m(self, x)\u001b[0m\n\u001b[1;32m     28\u001b[0m         \u001b[0mpacked_emb\u001b[0m \u001b[0;34m=\u001b[0m \u001b[0mx\u001b[0m\u001b[0;34m\u001b[0m\u001b[0;34m\u001b[0m\u001b[0m\n\u001b[1;32m     29\u001b[0m \u001b[0;34m\u001b[0m\u001b[0m\n\u001b[0;32m---> 30\u001b[0;31m         \u001b[0mout\u001b[0m\u001b[0;34m,\u001b[0m \u001b[0mhidden\u001b[0m \u001b[0;34m=\u001b[0m \u001b[0mself\u001b[0m\u001b[0;34m.\u001b[0m\u001b[0mlstm\u001b[0m\u001b[0;34m(\u001b[0m\u001b[0mpacked_emb\u001b[0m\u001b[0;34m,\u001b[0m \u001b[0mself\u001b[0m\u001b[0;34m.\u001b[0m\u001b[0mhidden\u001b[0m\u001b[0;34m)\u001b[0m\u001b[0;34m\u001b[0m\u001b[0;34m\u001b[0m\u001b[0m\n\u001b[0m\u001b[1;32m     31\u001b[0m \u001b[0;34m\u001b[0m\u001b[0m\n\u001b[1;32m     32\u001b[0m         \u001b[0mout\u001b[0m \u001b[0;34m=\u001b[0m \u001b[0mout\u001b[0m\u001b[0;34m[\u001b[0m\u001b[0;34m:\u001b[0m\u001b[0;34m,\u001b[0m \u001b[0;34m:\u001b[0m\u001b[0;34m,\u001b[0m \u001b[0;34m:\u001b[0m\u001b[0mself\u001b[0m\u001b[0;34m.\u001b[0m\u001b[0mh_dim\u001b[0m\u001b[0;34m]\u001b[0m \u001b[0;34m+\u001b[0m \u001b[0mout\u001b[0m\u001b[0;34m[\u001b[0m\u001b[0;34m:\u001b[0m\u001b[0;34m,\u001b[0m \u001b[0;34m:\u001b[0m\u001b[0;34m,\u001b[0m \u001b[0mself\u001b[0m\u001b[0;34m.\u001b[0m\u001b[0mh_dim\u001b[0m\u001b[0;34m:\u001b[0m\u001b[0;34m]\u001b[0m\u001b[0;34m\u001b[0m\u001b[0;34m\u001b[0m\u001b[0m\n",
      "\u001b[0;32m/opt/anaconda3/lib/python3.7/site-packages/torch/nn/modules/module.py\u001b[0m in \u001b[0;36m__call__\u001b[0;34m(self, *input, **kwargs)\u001b[0m\n\u001b[1;32m    548\u001b[0m             \u001b[0mresult\u001b[0m \u001b[0;34m=\u001b[0m \u001b[0mself\u001b[0m\u001b[0;34m.\u001b[0m\u001b[0m_slow_forward\u001b[0m\u001b[0;34m(\u001b[0m\u001b[0;34m*\u001b[0m\u001b[0minput\u001b[0m\u001b[0;34m,\u001b[0m \u001b[0;34m**\u001b[0m\u001b[0mkwargs\u001b[0m\u001b[0;34m)\u001b[0m\u001b[0;34m\u001b[0m\u001b[0;34m\u001b[0m\u001b[0m\n\u001b[1;32m    549\u001b[0m         \u001b[0;32melse\u001b[0m\u001b[0;34m:\u001b[0m\u001b[0;34m\u001b[0m\u001b[0;34m\u001b[0m\u001b[0m\n\u001b[0;32m--> 550\u001b[0;31m             \u001b[0mresult\u001b[0m \u001b[0;34m=\u001b[0m \u001b[0mself\u001b[0m\u001b[0;34m.\u001b[0m\u001b[0mforward\u001b[0m\u001b[0;34m(\u001b[0m\u001b[0;34m*\u001b[0m\u001b[0minput\u001b[0m\u001b[0;34m,\u001b[0m \u001b[0;34m**\u001b[0m\u001b[0mkwargs\u001b[0m\u001b[0;34m)\u001b[0m\u001b[0;34m\u001b[0m\u001b[0;34m\u001b[0m\u001b[0m\n\u001b[0m\u001b[1;32m    551\u001b[0m         \u001b[0;32mfor\u001b[0m \u001b[0mhook\u001b[0m \u001b[0;32min\u001b[0m \u001b[0mself\u001b[0m\u001b[0;34m.\u001b[0m\u001b[0m_forward_hooks\u001b[0m\u001b[0;34m.\u001b[0m\u001b[0mvalues\u001b[0m\u001b[0;34m(\u001b[0m\u001b[0;34m)\u001b[0m\u001b[0;34m:\u001b[0m\u001b[0;34m\u001b[0m\u001b[0;34m\u001b[0m\u001b[0m\n\u001b[1;32m    552\u001b[0m             \u001b[0mhook_result\u001b[0m \u001b[0;34m=\u001b[0m \u001b[0mhook\u001b[0m\u001b[0;34m(\u001b[0m\u001b[0mself\u001b[0m\u001b[0;34m,\u001b[0m \u001b[0minput\u001b[0m\u001b[0;34m,\u001b[0m \u001b[0mresult\u001b[0m\u001b[0;34m)\u001b[0m\u001b[0;34m\u001b[0m\u001b[0;34m\u001b[0m\u001b[0m\n",
      "\u001b[0;32m/opt/anaconda3/lib/python3.7/site-packages/torch/nn/modules/rnn.py\u001b[0m in \u001b[0;36mforward\u001b[0;34m(self, input, hx)\u001b[0m\n\u001b[1;32m    568\u001b[0m         \u001b[0;32mif\u001b[0m \u001b[0mbatch_sizes\u001b[0m \u001b[0;32mis\u001b[0m \u001b[0;32mNone\u001b[0m\u001b[0;34m:\u001b[0m\u001b[0;34m\u001b[0m\u001b[0;34m\u001b[0m\u001b[0m\n\u001b[1;32m    569\u001b[0m             result = _VF.lstm(input, hx, self._flat_weights, self.bias, self.num_layers,\n\u001b[0;32m--> 570\u001b[0;31m                               self.dropout, self.training, self.bidirectional, self.batch_first)\n\u001b[0m\u001b[1;32m    571\u001b[0m         \u001b[0;32melse\u001b[0m\u001b[0;34m:\u001b[0m\u001b[0;34m\u001b[0m\u001b[0;34m\u001b[0m\u001b[0m\n\u001b[1;32m    572\u001b[0m             result = _VF.lstm(input, batch_sizes, hx, self._flat_weights, self.bias,\n",
      "\u001b[0;31mKeyboardInterrupt\u001b[0m: "
     ]
    }
   ],
   "source": [
    "encoder.train()\n",
    "classifier.train()\n",
    "correct = 0\n",
    "dataList = trainSet\n",
    "print(str(len(dataList)) + \" reviews to train on.\")\n",
    "for j in range(50) :\n",
    "    for i, data in enumerate(dataList):\n",
    "        x, y = data\n",
    "        if len(x)>0 : \n",
    "            x = torch.Tensor(x)\n",
    "            x = x.view(1, -1, 128)\n",
    "            #y = torch.tensor(y-1).reshape(-1).type(torch.LongTensor)\n",
    "            y = torch.tensor(y).reshape(-1)\n",
    "            optimizer.zero_grad()\n",
    "            encoder_outputs = encoder(x)\n",
    "            output, attn = classifier(encoder_outputs)\n",
    "            los = loss(output, y)\n",
    "            los.backward()\n",
    "            optimizer.step()\n",
    "\n",
    "    if (j+1)%10==0 : \n",
    "        # calculate error on test set\n",
    "        Y = []\n",
    "        Ypred = []\n",
    "        for test in testSet : \n",
    "            try :\n",
    "                Xtest = torch.Tensor(test[0])\n",
    "                Xtest = Xtest.view(1, -1, 128)\n",
    "                encoder_outputs = encoder(Xtest)\n",
    "                output, attn = classifier(encoder_outputs)\n",
    "                Ypred.append(output[0][0].detach().numpy())\n",
    "                Y.append(test[1])\n",
    "            except : None\n",
    "        \n",
    "        err = np.mean([abs(y-min(5, max(1, round(float(ypred))))) for y, ypred in zip(Y, Ypred)])\n",
    "        \n",
    "        # Verbose\n",
    "        print(\"    {} epochs done. Error : {}\".format(j+1, round(err, ndigits=6)))\n",
    "\n",
    "# verbose\n",
    "print(\"Training done.\")"
   ]
  },
  {
   "cell_type": "code",
   "execution_count": 548,
   "metadata": {},
   "outputs": [
    {
     "name": "stdout",
     "output_type": "stream",
     "text": [
      "test phase\n",
      "Done\n"
     ]
    }
   ],
   "source": [
    "print(\"test phase\")\n",
    "\n",
    "Y = []\n",
    "Ypred = []\n",
    "for test in testSet : \n",
    "    try :\n",
    "        Xtest = torch.Tensor(test[0])\n",
    "        Xtest = Xtest.view(1, -1, 128)\n",
    "        encoder_outputs = encoder(Xtest)\n",
    "        output, attn = classifier(encoder_outputs)\n",
    "        Ypred.append(output[0][0].detach().numpy())\n",
    "        #Ypred.append(torch.max(output, 1)[1][0].detach().numpy())\n",
    "        Y.append(test[1])\n",
    "    except : None\n",
    "\n",
    "print(\"Done\")"
   ]
  },
  {
   "cell_type": "code",
   "execution_count": 549,
   "metadata": {},
   "outputs": [
    {
     "data": {
      "text/plain": [
       "0.6487804878048781"
      ]
     },
     "execution_count": 549,
     "metadata": {},
     "output_type": "execute_result"
    }
   ],
   "source": [
    "import numpy as np\n",
    "np.mean([abs(y-round(float(ypred))) for y, ypred in zip(Y, Ypred)])\n",
    "#np.mean([abs(y-ypred) for y, ypred in zip(Y, Ypred)])"
   ]
  },
  {
   "cell_type": "code",
   "execution_count": 550,
   "metadata": {},
   "outputs": [],
   "source": [
    "Yval = list(set(Y))\n",
    "Yval.sort()\n",
    "\n",
    "confmat = []\n",
    "\n",
    "for y in Yval :\n",
    "    lst = [0, 0, 0, 0, 0]\n",
    "    for i in range(len(Y)) : \n",
    "        if Y[i] == y :\n",
    "            ypred = min(max(1, round(float(Ypred[i]))), 5)\n",
    "            lst[int(ypred-1)] += 1\n",
    "    confmat.append(lst)\n",
    "\n"
   ]
  },
  {
   "cell_type": "code",
   "execution_count": 551,
   "metadata": {},
   "outputs": [
    {
     "data": {
      "text/plain": [
       "array([[12,  4,  1,  0,  3],\n",
       "       [10,  7,  5,  2,  2],\n",
       "       [ 5,  3,  5,  9,  4],\n",
       "       [ 3,  0,  7, 24, 20],\n",
       "       [ 0,  1,  2, 17, 59]])"
      ]
     },
     "execution_count": 551,
     "metadata": {},
     "output_type": "execute_result"
    }
   ],
   "source": [
    "np.array(confmat).T"
   ]
  },
  {
   "cell_type": "code",
   "execution_count": 552,
   "metadata": {},
   "outputs": [
    {
     "data": {
      "text/plain": [
       "52.19512195121951"
      ]
     },
     "execution_count": 552,
     "metadata": {},
     "output_type": "execute_result"
    }
   ],
   "source": [
    "sum([confmat[i][i] for i in range(5)])/len(Y)*100"
   ]
  },
  {
   "cell_type": "code",
   "execution_count": 553,
   "metadata": {},
   "outputs": [],
   "source": [
    "confmat2 = confmat\n",
    "for i in range(5):\n",
    "    for j  in range(5) : \n",
    "        confmat2[i][j] = round(confmat[i][j]/len(Y)*100)"
   ]
  },
  {
   "cell_type": "code",
   "execution_count": 554,
   "metadata": {},
   "outputs": [
    {
     "data": {
      "text/plain": [
       "array([[ 6,  2,  0,  0,  1],\n",
       "       [ 5,  3,  2,  1,  1],\n",
       "       [ 2,  1,  2,  4,  2],\n",
       "       [ 1,  0,  3, 12, 10],\n",
       "       [ 0,  0,  1,  8, 29]])"
      ]
     },
     "execution_count": 554,
     "metadata": {},
     "output_type": "execute_result"
    }
   ],
   "source": [
    "np.array(confmat2).T"
   ]
  },
  {
   "cell_type": "markdown",
   "metadata": {},
   "source": [
    "# Vizualisation"
   ]
  },
  {
   "cell_type": "code",
   "execution_count": 463,
   "metadata": {},
   "outputs": [
    {
     "ename": "KeyError",
     "evalue": "6",
     "output_type": "error",
     "traceback": [
      "\u001b[0;31m---------------------------------------------------------------------------\u001b[0m",
      "\u001b[0;31mKeyError\u001b[0m                                  Traceback (most recent call last)",
      "\u001b[0;32m<ipython-input-463-e34aa7e5df0a>\u001b[0m in \u001b[0;36m<module>\u001b[0;34m\u001b[0m\n\u001b[0;32m----> 1\u001b[0;31m \u001b[0mtest\u001b[0m \u001b[0;34m=\u001b[0m \u001b[0mdataSet\u001b[0m\u001b[0;34m[\u001b[0m\u001b[0;36m6\u001b[0m\u001b[0;34m]\u001b[0m\u001b[0;34m\u001b[0m\u001b[0;34m\u001b[0m\u001b[0m\n\u001b[0m\u001b[1;32m      2\u001b[0m \u001b[0mXtest\u001b[0m \u001b[0;34m=\u001b[0m \u001b[0mtorch\u001b[0m\u001b[0;34m.\u001b[0m\u001b[0mTensor\u001b[0m\u001b[0;34m(\u001b[0m\u001b[0mtest\u001b[0m\u001b[0;34m[\u001b[0m\u001b[0;36m0\u001b[0m\u001b[0;34m]\u001b[0m\u001b[0;34m)\u001b[0m\u001b[0;34m\u001b[0m\u001b[0;34m\u001b[0m\u001b[0m\n\u001b[1;32m      3\u001b[0m \u001b[0mXtest\u001b[0m \u001b[0;34m=\u001b[0m \u001b[0mXtest\u001b[0m\u001b[0;34m.\u001b[0m\u001b[0mview\u001b[0m\u001b[0;34m(\u001b[0m\u001b[0;36m1\u001b[0m\u001b[0;34m,\u001b[0m \u001b[0;34m-\u001b[0m\u001b[0;36m1\u001b[0m\u001b[0;34m,\u001b[0m \u001b[0;36m128\u001b[0m\u001b[0;34m)\u001b[0m\u001b[0;34m\u001b[0m\u001b[0;34m\u001b[0m\u001b[0m\n\u001b[1;32m      4\u001b[0m \u001b[0mtest\u001b[0m\u001b[0;34m[\u001b[0m\u001b[0;36m1\u001b[0m\u001b[0;34m]\u001b[0m\u001b[0;34m\u001b[0m\u001b[0;34m\u001b[0m\u001b[0m\n",
      "\u001b[0;31mKeyError\u001b[0m: 6"
     ]
    }
   ],
   "source": [
    "test = testSet[6]\n",
    "Xtest = torch.Tensor(test[0])\n",
    "Xtest = Xtest.view(1, -1, 128)\n",
    "test[1]"
   ]
  },
  {
   "cell_type": "code",
   "execution_count": 394,
   "metadata": {},
   "outputs": [
    {
     "data": {
      "text/plain": [
       "tensor([[5.1325]], grad_fn=<AddmmBackward>)"
      ]
     },
     "execution_count": 394,
     "metadata": {},
     "output_type": "execute_result"
    }
   ],
   "source": [
    "encoder_outputs = encoder(Xtest)\n",
    "output, attn = classifier(encoder_outputs)\n",
    "output"
   ]
  },
  {
   "cell_type": "code",
   "execution_count": 396,
   "metadata": {},
   "outputs": [
    {
     "data": {
      "text/plain": [
       "tensor([3.4873e-02, 2.5949e-03, 2.1146e-04, 3.4034e-04, 1.7443e-02, 4.3202e-01,\n",
       "        1.2596e-03, 8.5964e-04, 2.1628e-01, 4.4622e-05, 9.9330e-03, 2.9967e-05,\n",
       "        1.4599e-06, 2.6095e-05, 5.5018e-04, 3.2486e-02, 8.0658e-06, 2.7958e-03,\n",
       "        2.1654e-06, 1.0675e-07, 1.0591e-07, 6.0541e-08, 1.3530e-05, 2.0220e-09,\n",
       "        5.7851e-11, 2.9865e-09, 1.1099e-03, 1.3531e-02, 1.4685e-05, 2.0168e-05,\n",
       "        1.5390e-08, 2.9074e-03, 3.1314e-08, 3.9030e-03, 1.0896e-04, 8.3598e-02,\n",
       "        5.1319e-06, 3.9162e-07, 6.6421e-09, 8.1745e-04, 6.2547e-04, 2.8928e-05,\n",
       "        4.3990e-06, 6.1138e-05, 1.2171e-05, 2.9681e-02, 1.1179e-01, 1.2083e-06,\n",
       "        6.4868e-07, 3.3909e-06, 4.2358e-09])"
      ]
     },
     "execution_count": 396,
     "metadata": {},
     "output_type": "execute_result"
    }
   ],
   "source": [
    "a = attn.data[0,:,0]\n",
    "a"
   ]
  },
  {
   "cell_type": "code",
   "execution_count": 555,
   "metadata": {},
   "outputs": [
    {
     "name": "stdout",
     "output_type": "stream",
     "text": [
      "File imported (4102 reviews)\n"
     ]
    }
   ],
   "source": [
    "# Import (created) data\n",
    "import json\n",
    "\n",
    "with open('yelp_reviews_part1.json') as json_file:\n",
    "    reviews = json.load(json_file)\n",
    "\n",
    "print(\"File imported ({} reviews)\".format(len(reviews)))\n",
    "\n",
    "keys = list(reviews.keys())"
   ]
  },
  {
   "cell_type": "code",
   "execution_count": 556,
   "metadata": {},
   "outputs": [
    {
     "data": {
      "text/plain": [
       "'Really good place with simple decor, amazing food and great hospitality.\\nVery impressed with the lunch portion. Although service took little extra time but I have no complaints since they are quite new in business. The green curry chicken was good and to the right spice balance I asked for. I will definitely recommend this place to others.'"
      ]
     },
     "execution_count": 556,
     "metadata": {},
     "output_type": "execute_result"
    }
   ],
   "source": [
    "text = reviews[keys[6]]['text']\n",
    "text"
   ]
  },
  {
   "cell_type": "code",
   "execution_count": 559,
   "metadata": {},
   "outputs": [],
   "source": [
    "wordsList = df['word'].tolist()\n",
    "\n",
    "words = re.findall(r\"[\\w']+\", text)\n",
    "words = [w.lower().replace(\"'\", \" \") for w in words if w in wordsList]\n",
    "tmp = df[df['word'].isin(words)]\n",
    "vectors = [tmp[tmp['word'] == w].iloc[0,2:].tolist() for w in words]\n",
    "\n",
    "x = torch.tensor(vectors).view(1, -1, 128)\n",
    "encoder_outputs = encoder(x)\n",
    "output, attn = classifier(encoder_outputs)\n",
    "\n"
   ]
  },
  {
   "cell_type": "code",
   "execution_count": 562,
   "metadata": {},
   "outputs": [
    {
     "data": {
      "text/plain": [
       "5"
      ]
     },
     "execution_count": 562,
     "metadata": {},
     "output_type": "execute_result"
    }
   ],
   "source": [
    "round(float(output))"
   ]
  },
  {
   "cell_type": "code",
   "execution_count": 407,
   "metadata": {},
   "outputs": [],
   "source": [
    "def highlight(word, attn):\n",
    "    html_color = '#%02X%02X%02X' % (255, int(255*(1 - attn)), int(255*(1 - attn)))\n",
    "    return '<span style=\"background-color: {}\">{}</span>'.format(html_color, word)\n",
    "\n",
    "def mk_html(sentence, attns):\n",
    "    html = \"\"\n",
    "    for word, attn in zip(sentence, attns):\n",
    "        html += ' ' + highlight(\n",
    "            word,\n",
    "            attn\n",
    "        )\n",
    "    return html + \"<br><br>\\n\""
   ]
  },
  {
   "cell_type": "code",
   "execution_count": 600,
   "metadata": {},
   "outputs": [],
   "source": [
    "\n",
    "k = 4\n",
    "\n",
    "text = reviews[keys[k]]['text']\n",
    "star = reviews[keys[k]]['stars']\n",
    "\n",
    "wordsList = df['word'].tolist()\n",
    "\n",
    "words = re.findall(r\"[\\w']+\", text)\n",
    "words = [w.lower().replace(\"'\", \" \") for w in words if w in wordsList]\n",
    "tmp = df[df['word'].isin(words)]\n",
    "vectors = [tmp[tmp['word'] == w].iloc[0,2:].tolist() for w in words]\n",
    "\n",
    "x = torch.tensor(vectors).view(1, -1, 128)\n",
    "encoder_outputs = encoder(x)\n",
    "output, attn = classifier(encoder_outputs)\n",
    "\n",
    "starpred = min(max(1, round(float(output))), 5)\n",
    "\n",
    "a = attn.data[0,:,0]\n",
    "\n",
    "\n",
    "words = re.findall(r\"[\\w']+\", text)\n",
    "words = [w.lower().replace(\"'\", \" \") for w in words if w in wordsList]\n",
    "\n",
    "wordsLst = []\n",
    "wordsAttn = []\n",
    "i = 0\n",
    "j = 0\n",
    "k = 0\n",
    "w =  words[k]\n",
    "l = len(w)\n",
    "while i < len(text):\n",
    "    wt = text[i:(i+l)]\n",
    "    if wt.lower().replace(\"'\", \" \").replace(\"\\n\", \"\") == w : \n",
    "        wordsLst.append(text[j:i])\n",
    "        wordsAttn.append(0)\n",
    "        wordsLst.append(wt)\n",
    "        wordsAttn.append(float(a[k]))\n",
    "        i = i+l\n",
    "        j = i\n",
    "        k += 1\n",
    "        try : \n",
    "            w =  words[k]\n",
    "            l = len(w)\n",
    "        except : break\n",
    "    else :\n",
    "        i += 1"
   ]
  },
  {
   "cell_type": "code",
   "execution_count": 601,
   "metadata": {},
   "outputs": [],
   "source": [
    "f = open(\"attn.html\", \"w\")\n",
    "f.write( '\\t'.join([str(int(star)), str(starpred), mk_html(wordsLst, wordsAttn)]))\n",
    "f.close()"
   ]
  },
  {
   "cell_type": "code",
   "execution_count": 602,
   "metadata": {},
   "outputs": [
    {
     "data": {
      "text/plain": [
       "3"
      ]
     },
     "execution_count": 602,
     "metadata": {},
     "output_type": "execute_result"
    }
   ],
   "source": [
    "starpred"
   ]
  },
  {
   "cell_type": "code",
   "execution_count": 599,
   "metadata": {},
   "outputs": [
    {
     "data": {
      "text/plain": [
       "'Dismal, lukewarm, defrosted-tasting \"TexMex\" glop;\\n\\nMumbly, unengaged waiter;\\n\\nClueless manager, who seeing us with barely nibbled entrees\\non plates shoved forward for pickup, thanked us\\nperfunctorily for our patronage;\\n\\nWe\\'re from the Texas Hill Country;\\ndown there, we jail critters \\nwho serve up grub this bad,\\nfor their own protection.\\n\\nNever, never, NEVER again\\n(Back to Yard House for real food)'"
      ]
     },
     "execution_count": 599,
     "metadata": {},
     "output_type": "execute_result"
    }
   ],
   "source": [
    "text"
   ]
  },
  {
   "cell_type": "code",
   "execution_count": 565,
   "metadata": {},
   "outputs": [
    {
     "data": {
      "text/plain": [
       "'Really good place with simple decor, amazing food and great hospitality.\\nVery impressed with the lunch portion. Although service took little extra time but I have no complaints since they are quite new in business. The green curry chicken was good and to the right spice balance I asked for. I will definitely recommend this place to others.'"
      ]
     },
     "execution_count": 565,
     "metadata": {},
     "output_type": "execute_result"
    }
   ],
   "source": [
    "text"
   ]
  },
  {
   "cell_type": "code",
   "execution_count": 427,
   "metadata": {},
   "outputs": [
    {
     "data": {
      "text/plain": [
       "'place'"
      ]
     },
     "execution_count": 427,
     "metadata": {},
     "output_type": "execute_result"
    }
   ],
   "source": [
    "w"
   ]
  },
  {
   "cell_type": "code",
   "execution_count": 569,
   "metadata": {},
   "outputs": [
    {
     "data": {
      "text/plain": [
       "{'Really ': 0,\n",
       " 'good': 0.008519185706973076,\n",
       " ' ': 0,\n",
       " 'place': 8.057260743044026e-07,\n",
       " 'with': 0.00010041088535217568,\n",
       " 'simple': 1.8584192730486393e-05,\n",
       " 'decor': 0.043511517345905304,\n",
       " ', ': 0,\n",
       " 'amazing': 0.2592686414718628,\n",
       " 'food': 0.002137534786015749,\n",
       " 'and': 3.22355299431365e-06,\n",
       " 'great': 0.31096503138542175,\n",
       " 'hospitality': 0.003158975625410676,\n",
       " '.\\nVery ': 0,\n",
       " 'impressed': 0.0008085811859928071,\n",
       " 'the': 1.8984486871431727e-07,\n",
       " 'lunch': 0.013776425272226334,\n",
       " 'portion': 0.007655754219740629,\n",
       " '. Although ': 0,\n",
       " 'service': 0.00029548941529355943,\n",
       " 'took': 1.7773362515072222e-06,\n",
       " 'little': 4.475287198602018e-07,\n",
       " 'extra': 3.3218679163837805e-05,\n",
       " 'time': 1.5490697478526272e-05,\n",
       " 'but': 7.776482561894227e-06,\n",
       " ' I ': 0,\n",
       " 'have': 0.0008112172945402563,\n",
       " 'no': 0.002674650400876999,\n",
       " 'complaints': 2.2990123397903517e-05,\n",
       " 'since': 0.0007223040447570384,\n",
       " 'they': 0.008232345804572105,\n",
       " 'are': 0.0005870381137356162,\n",
       " 'quite': 0.019895952194929123,\n",
       " 'new': 0.02636522799730301,\n",
       " 'in': 0.00025865714997053146,\n",
       " 'business': 2.9126054869266227e-05,\n",
       " '. The ': 0,\n",
       " 'green': 0.005016383249312639,\n",
       " 'curry': 0.00021648868278134614,\n",
       " 'chicken': 0.0005873827612958848,\n",
       " 'was': 2.086547829094343e-05,\n",
       " 'to': 8.110954041740115e-08,\n",
       " 'right': 1.383965809509391e-05,\n",
       " 'spice': 2.0088928067707457e-06,\n",
       " 'balance': 8.303700451506302e-05,\n",
       " 'asked': 4.324750989326276e-05,\n",
       " 'for': 5.393641913542524e-05,\n",
       " '. I ': 0,\n",
       " 'will': 4.496339170145802e-05,\n",
       " 'definitely': 0.00044800853356719017,\n",
       " 'recommend': 0.10949685424566269,\n",
       " 'this': 0.00011002142127836123,\n",
       " 'others': 1.6913493254833156e-06}"
      ]
     },
     "execution_count": 569,
     "metadata": {},
     "output_type": "execute_result"
    }
   ],
   "source": [
    "wordsIn"
   ]
  },
  {
   "cell_type": "code",
   "execution_count": null,
   "metadata": {},
   "outputs": [],
   "source": []
  }
 ],
 "metadata": {
  "kernelspec": {
   "display_name": "Python 3",
   "language": "python",
   "name": "python3"
  },
  "language_info": {
   "codemirror_mode": {
    "name": "ipython",
    "version": 3
   },
   "file_extension": ".py",
   "mimetype": "text/x-python",
   "name": "python",
   "nbconvert_exporter": "python",
   "pygments_lexer": "ipython3",
   "version": "3.7.6"
  }
 },
 "nbformat": 4,
 "nbformat_minor": 4
}
